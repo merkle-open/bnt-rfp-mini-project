{
 "cells": [
  {
   "attachments": {},
   "cell_type": "markdown",
   "metadata": {},
   "source": [
    "# Download and Transform Covid Data\n",
    "Run this notebook in order to download Covid-19 data from S3 bucket, store it, process and transform it through all data layers.\n",
    "\n",
    "## Prerequisites\n",
    "\n",
    "1. Create `credentials.ini` file inside [bnt_rfp_mini_project/config](../bnt_rfp_mini_project/config) \n",
    "   using [`../bnt_rfp_mini_project/config/credentials.ini.template`](../bnt_rfp_mini_project/config/credentials.ini.template) as a template\n",
    "   \n",
    "   You will need:\n",
    "   * S3 bucket name\n",
    "     * `my-bucket-with-data`\n",
    "   * AWS access key \n",
    "     * `AAAAAAAAAAAAAAAAAAAAAAAA`\n",
    "   * AWS access secret\n",
    "     * `secretsecretsecretsecretsecretsecretsecretsecretsecret`\n",
    "   * Hostname to S3 service in region where target S3 bucket is located\n",
    "     * `s3.eu-central-1.amazonaws.com`\n",
    "\n",
    "When all prerequisites are set up, start all cells in this notebook."
   ]
  },
  {
   "cell_type": "code",
   "execution_count": null,
   "metadata": {},
   "outputs": [],
   "source": [
    "import boto3\n",
    "from boto3.session import Session\n",
    "from pathlib import Path\n",
    "import os\n",
    "import sys\n",
    "import pandas as pd"
   ]
  },
  {
   "cell_type": "code",
   "execution_count": null,
   "metadata": {},
   "outputs": [],
   "source": [
    "%load_ext autoreload\n",
    "%autoreload 2\n",
    "# Packages in src can be accessed via adding the src folder path to pythonpath.\n",
    "module_path = os.path.abspath(os.path.join(\"../\"))\n",
    "sys.path.insert(0, module_path)"
   ]
  },
  {
   "cell_type": "code",
   "execution_count": null,
   "metadata": {},
   "outputs": [],
   "source": [
    "# Import ingestion and etl pipeline\n",
    "from bnt_rfp_mini_project.conventions import data_processed_path, data_output_path\n",
    "from bnt_rfp_mini_project.ingestion.ingest_covid_variants_country_indicators import persist_files_to_raw\n",
    "from bnt_rfp_mini_project.transformation.etl_pipeline import main as etl_pipeline"
   ]
  },
  {
   "cell_type": "code",
   "execution_count": null,
   "metadata": {},
   "outputs": [],
   "source": [
    "# Get data from source S3\n",
    "persist_files_to_raw(raw_category_path=\"covid_variants_country_indicators\")"
   ]
  },
  {
   "cell_type": "code",
   "execution_count": null,
   "metadata": {},
   "outputs": [],
   "source": [
    "# Run ETL to process all data through layers\n",
    "etl_pipeline()"
   ]
  }
 ],
 "metadata": {
  "kernelspec": {
   "display_name": "rfp3",
   "language": "python",
   "name": "python3"
  },
  "language_info": {
   "codemirror_mode": {
    "name": "ipython",
    "version": 3
   },
   "file_extension": ".py",
   "mimetype": "text/x-python",
   "name": "python",
   "nbconvert_exporter": "python",
   "pygments_lexer": "ipython3",
   "version": "3.9.16"
  },
  "vscode": {
   "interpreter": {
    "hash": "f0cf145797158932e7c56f7eccf9a2307efe356ce96740df0dd22ade64ddf52f"
   }
  }
 },
 "nbformat": 4,
 "nbformat_minor": 2
}
