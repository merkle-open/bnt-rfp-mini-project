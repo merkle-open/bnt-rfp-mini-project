{
 "cells": [
  {
   "cell_type": "markdown",
   "metadata": {},
   "source": [
    "# Exercise\n",
    "\n",
    "1. ___Early hit countries___\n",
    "      * For each continent, which are the five countries that are statistically hit earliest by new variants?\n",
    "2. ___Predictor countries___\n",
    "      * For these countries which are the five countries on and the five off the respective continent, that serves as predictors for incoming variants?\n",
    "\n"
   ]
  },
  {
   "cell_type": "markdown",
   "metadata": {},
   "source": [
    "## Importing ETL Framework\n",
    "Mini Data Lake framework is being imported for easier data manipulations."
   ]
  },
  {
   "cell_type": "code",
   "execution_count": null,
   "metadata": {
    "tags": []
   },
   "outputs": [],
   "source": [
    "from pathlib import Path\n",
    "import os\n",
    "import sys\n",
    "import pandas as pd\n",
    "from pathlib import Path\n",
    "from presentation_support import folium_del_legend\n",
    "import seaborn as sns\n",
    "import matplotlib.pyplot as plt"
   ]
  },
  {
   "cell_type": "code",
   "execution_count": null,
   "metadata": {
    "tags": []
   },
   "outputs": [],
   "source": [
    "%load_ext autoreload\n",
    "%autoreload 2\n",
    "# Packages in src can be accessed via adding the src folder path to pythonpath.\n",
    "module_path = os.path.abspath(os.path.join(\"../\"))\n",
    "sys.path.insert(0, module_path)\n",
    "\n",
    "# Import custom transformations for exercise 1\n",
    "from bnt_rfp_mini_project.conventions import data_processed_path, data_output_path\n",
    "from bnt_rfp_mini_project.transformation.cleansed2processed.cleansed2processed_join_data1_data2 import merge_continent_to_countries\n",
    "from bnt_rfp_mini_project.transformation.processed2output.processed2output_exercise_1 import exercise_1"
   ]
  },
  {
   "cell_type": "code",
   "execution_count": null,
   "metadata": {
    "tags": []
   },
   "outputs": [],
   "source": [
    "# Custom transformations\n",
    "merge_continent_to_countries()\n",
    "exercise_1()"
   ]
  },
  {
   "cell_type": "markdown",
   "metadata": {},
   "source": [
    "## 1. Early Hit Countries\n",
    "For each continent, which are the five countries that are statistically hit earliest by new variants?"
   ]
  },
  {
   "cell_type": "code",
   "execution_count": null,
   "metadata": {
    "tags": []
   },
   "outputs": [],
   "source": [
    "# Read output data\n",
    "result_top_5_countries_per_continent_df = pd.read_csv(\n",
    "    Path(\n",
    "        data_output_path,\n",
    "        \"analysis_of_covid_variants_country_indicators\",\n",
    "        \"covid_first_hit_countries_by_continent.csv\",\n",
    "    )\n",
    ")\n",
    "display(result_top_5_countries_per_continent_df)"
   ]
  },
  {
   "cell_type": "code",
   "execution_count": null,
   "metadata": {
    "tags": []
   },
   "outputs": [],
   "source": [
    "import geopandas as gpd\n",
    "import folium\n",
    "from folium.plugins import Fullscreen, minimap\n",
    "from presentation_support import folium_del_legend\n",
    "\n",
    "world_geojson = \"countries_custom.geojson\"\n",
    "world_gpd = gpd.read_file(world_geojson)\n",
    "world_q1_gpd = world_gpd.merge(\n",
    "    result_top_5_countries_per_continent_df, on=\"location\", how=\"inner\"\n",
    ")\n",
    "q1_bounds = world_q1_gpd.total_bounds\n",
    "q1_bounds_lat_long_list = [[-50.9, q1_bounds[0]], [q1_bounds[3], q1_bounds[2]]]"
   ]
  },
  {
   "cell_type": "code",
   "execution_count": null,
   "metadata": {
    "tags": []
   },
   "outputs": [],
   "source": [
    "m = folium.Map(location=[45.5236, -122.6750], overlay=False, tiles=None)\n",
    "folium.TileLayer(\n",
    "    name=\"bnt_map_dark\",\n",
    "    tiles=\"https://api.mapbox.com/styles/v1/petruf/cldzs3i35000501p8exy6biz1/tiles/256/{z}/{x}/{y}@2x?access_token=pk.eyJ1IjoicGV0cnVmIiwiYSI6ImNqa3YwMWVocTA3M3MzdnBjdmt2eHB2aXcifQ.JR18dBJuSUrcUgGHKouKmQ\",\n",
    "    attr=\"Mapbox BioNTech dark\",\n",
    ").add_to(m)\n",
    "folium.TileLayer(name=\"OpenStreetMap\", tiles=\"OpenStreetMap\").add_to(m)\n",
    "folium.TileLayer(\n",
    "    name=\"bnt_map\",\n",
    "    tiles=\"https://api.mapbox.com/styles/v1/petruf/cldycm30b002601pdhzs6z99y/tiles/256/{z}/{x}/{y}@2x?access_token=pk.eyJ1IjoicGV0cnVmIiwiYSI6ImNqa3YwMWVocTA3M3MzdnBjdmt2eHB2aXcifQ.JR18dBJuSUrcUgGHKouKmQ\",\n",
    "    attr=\"Mapbox BioNTech colors\",\n",
    ").add_to(m)\n",
    "\n",
    "for idx, continent in enumerate(world_q1_gpd[\"continent\"].dropna().unique()):\n",
    "    q1_gpd = world_q1_gpd[world_q1_gpd[\"continent\"] == continent]\n",
    "    # q1_pd = result_top_5_countries_per_continent_df[result_top_5_countries_per_continent_df[\"continent\"]==continent]\n",
    "    cp = folium_del_legend(\n",
    "        folium.Choropleth(\n",
    "            geo_data=q1_gpd,\n",
    "            key_on=\"feature.properties.location\",\n",
    "            data=result_top_5_countries_per_continent_df,\n",
    "            columns=[\"location\", \"days\"],\n",
    "            name=f\"q1_{continent}\",\n",
    "            nan_fill_opacity=0.0,\n",
    "            fill_color=\"OrRd_r\",\n",
    "            fill_opacity=0.9,\n",
    "            line_opacity=0.2,\n",
    "            zoom_start=5,\n",
    "            highlight=True,\n",
    "            use_jenks=True,\n",
    "        ),\n",
    "        idx,\n",
    "    ).add_to(m)\n",
    "    folium.GeoJsonPopup([\"continent\", \"location\", \"days\"], localize=True).add_to(\n",
    "        cp.geojson\n",
    "    )\n",
    "folium.LayerControl(collapsed=False).add_to(m)\n",
    "Fullscreen().add_to(m)\n",
    "m.fit_bounds(q1_bounds_lat_long_list)\n",
    "m"
   ]
  },
  {
   "cell_type": "markdown",
   "metadata": {},
   "source": [
    "## 2. Predictor Countries\n",
    "For these countries which are the five countries on and the five off the respective continent, that serves as predictors for incoming variants?"
   ]
  },
  {
   "cell_type": "code",
   "execution_count": null,
   "metadata": {
    "tags": []
   },
   "outputs": [],
   "source": [
    "pairwise_df = pd.read_csv(\n",
    "    Path(\n",
    "        data_output_path,\n",
    "        \"analysis_of_covid_variants_country_indicators\",\n",
    "        \"covid_countries_similarity.csv\",\n",
    "    ),\n",
    "    index_col=\"location_from\",\n",
    ")\n",
    "\n",
    "plt.figure(figsize=(10, 10))\n",
    "sns.heatmap(pairwise_df, cmap=\"OrRd_r\", linewidth=1)"
   ]
  },
  {
   "cell_type": "code",
   "execution_count": null,
   "metadata": {
    "collapsed": true,
    "jupyter": {
     "outputs_hidden": true
    },
    "tags": []
   },
   "outputs": [],
   "source": [
    "countries_covid_similarity_df = pd.read_csv(\n",
    "    Path(\n",
    "        data_output_path,\n",
    "        \"analysis_of_covid_variants_country_indicators\",\n",
    "        \"top_5_similar_countries.csv\",\n",
    "    )\n",
    ")\n",
    "pd.set_option('display.max_rows', 300)\n",
    "display(countries_covid_similarity_df)"
   ]
  },
  {
   "cell_type": "code",
   "execution_count": null,
   "metadata": {
    "tags": []
   },
   "outputs": [],
   "source": [
    "world_q2_gpd = world_gpd.merge(\n",
    "    countries_covid_similarity_df, left_on=\"location\", right_on=\"location_to\", how=\"inner\"\n",
    ").sort_values(\"location_from\")\n",
    "q2_bounds = world_q2_gpd.total_bounds\n",
    "q2_bounds_lat_long_list = [[-50.9, q2_bounds[0]], [q2_bounds[3], q2_bounds[2]]]"
   ]
  },
  {
   "cell_type": "code",
   "execution_count": null,
   "metadata": {
    "tags": []
   },
   "outputs": [],
   "source": [
    "m2 = folium.Map(location=[45.5236, -122.6750], overlay=False, tiles=None)\n",
    "folium.TileLayer(\n",
    "    name=\"bnt_map_dark\",\n",
    "    tiles=\"https://api.mapbox.com/styles/v1/petruf/cldzs3i35000501p8exy6biz1/tiles/256/{z}/{x}/{y}@2x?access_token=pk.eyJ1IjoicGV0cnVmIiwiYSI6ImNqa3YwMWVocTA3M3MzdnBjdmt2eHB2aXcifQ.JR18dBJuSUrcUgGHKouKmQ\",\n",
    "    attr=\"Mapbox BioNTech dark\",\n",
    ").add_to(m2)\n",
    "folium.TileLayer(name=\"OpenStreetMap\", tiles=\"OpenStreetMap\").add_to(m2)\n",
    "folium.TileLayer(\n",
    "    name=\"bnt_map\",\n",
    "    tiles=\"https://api.mapbox.com/styles/v1/petruf/cldycm30b002601pdhzs6z99y/tiles/256/{z}/{x}/{y}@2x?access_token=pk.eyJ1IjoicGV0cnVmIiwiYSI6ImNqa3YwMWVocTA3M3MzdnBjdmt2eHB2aXcifQ.JR18dBJuSUrcUgGHKouKmQ\",\n",
    "    attr=\"Mapbox BioNTech colors\",\n",
    ").add_to(m2)\n",
    "\n",
    "for idx, location_from in enumerate(world_q2_gpd[\"location_from\"].dropna().unique()):\n",
    "    q2_gpd = world_q2_gpd[world_q2_gpd[\"location_from\"] == location_from]\n",
    "\n",
    "    cp2 = folium_del_legend(\n",
    "        folium.Choropleth(\n",
    "            geo_data=q2_gpd,\n",
    "            key_on=\"feature.properties.location_to\",\n",
    "            data=world_q2_gpd,\n",
    "            columns=[\"location_to\", \"distance\"],\n",
    "            name=f\"q2_{location_from}\",\n",
    "            nan_fill_opacity=0.0,\n",
    "            fill_color=\"OrRd_r\",\n",
    "            fill_opacity=0.9,\n",
    "            line_opacity=0.2,\n",
    "            zoom_start=5,\n",
    "            legend_name=\"Distance\",\n",
    "            show=False,\n",
    "            highlight=True\n",
    "        ),\n",
    "        idx,\n",
    "    ).add_to(m2)\n",
    "    folium.GeoJsonPopup([\"continent\", \"location_to\", \"distance\", \"continent\"], localize=True).add_to(\n",
    "        cp2.geojson\n",
    "    )\n",
    "folium.LayerControl(collapsed=False).add_to(m2)\n",
    "Fullscreen().add_to(m2)\n",
    "m2.fit_bounds(q2_bounds_lat_long_list)\n",
    "m2"
   ]
  }
 ],
 "metadata": {
  "kernelspec": {
   "display_name": "rfp3",
   "language": "python",
   "name": "python3"
  },
  "language_info": {
   "codemirror_mode": {
    "name": "ipython",
    "version": 3
   },
   "file_extension": ".py",
   "mimetype": "text/x-python",
   "name": "python",
   "nbconvert_exporter": "python",
   "pygments_lexer": "ipython3",
   "version": "3.9.16"
  },
  "vscode": {
   "interpreter": {
    "hash": "f0cf145797158932e7c56f7eccf9a2307efe356ce96740df0dd22ade64ddf52f"
   }
  }
 },
 "nbformat": 4,
 "nbformat_minor": 4
}
